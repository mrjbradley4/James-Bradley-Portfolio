{
 "cells": [
  {
   "cell_type": "code",
   "execution_count": 6,
   "id": "d42bd35a-2a47-4da6-a0d6-d334959d7bef",
   "metadata": {},
   "outputs": [
    {
     "name": "stdout",
     "output_type": "stream",
     "text": [
      "Epoch 1/10\n"
     ]
    },
    {
     "name": "stderr",
     "output_type": "stream",
     "text": [
      "C:\\Users\\jimbo\\.conda\\envs\\islp\\Lib\\site-packages\\keras\\src\\layers\\core\\dense.py:88: UserWarning: Do not pass an `input_shape`/`input_dim` argument to a layer. When using Sequential models, prefer using an `Input(shape)` object as the first layer in the model instead.\n",
      "  super().__init__(activity_regularizer=activity_regularizer, **kwargs)\n"
     ]
    },
    {
     "name": "stdout",
     "output_type": "stream",
     "text": [
      "\u001b[1m265/265\u001b[0m \u001b[32m━━━━━━━━━━━━━━━━━━━━\u001b[0m\u001b[37m\u001b[0m \u001b[1m2s\u001b[0m 3ms/step - accuracy: 0.8958 - loss: 0.4400 - val_accuracy: 0.9804 - val_loss: 0.0424\n",
      "Epoch 2/10\n",
      "\u001b[1m265/265\u001b[0m \u001b[32m━━━━━━━━━━━━━━━━━━━━\u001b[0m\u001b[37m\u001b[0m \u001b[1m1s\u001b[0m 2ms/step - accuracy: 0.9916 - loss: 0.0289 - val_accuracy: 0.9856 - val_loss: 0.0276\n",
      "Epoch 3/10\n",
      "\u001b[1m265/265\u001b[0m \u001b[32m━━━━━━━━━━━━━━━━━━━━\u001b[0m\u001b[37m\u001b[0m \u001b[1m1s\u001b[0m 2ms/step - accuracy: 0.9951 - loss: 0.0170 - val_accuracy: 0.9993 - val_loss: 0.0089\n",
      "Epoch 4/10\n",
      "\u001b[1m265/265\u001b[0m \u001b[32m━━━━━━━━━━━━━━━━━━━━\u001b[0m\u001b[37m\u001b[0m \u001b[1m1s\u001b[0m 2ms/step - accuracy: 0.9977 - loss: 0.0107 - val_accuracy: 0.9960 - val_loss: 0.0116\n",
      "Epoch 5/10\n",
      "\u001b[1m265/265\u001b[0m \u001b[32m━━━━━━━━━━━━━━━━━━━━\u001b[0m\u001b[37m\u001b[0m \u001b[1m1s\u001b[0m 2ms/step - accuracy: 0.9935 - loss: 0.0153 - val_accuracy: 1.0000 - val_loss: 0.0030\n",
      "Epoch 6/10\n",
      "\u001b[1m265/265\u001b[0m \u001b[32m━━━━━━━━━━━━━━━━━━━━\u001b[0m\u001b[37m\u001b[0m \u001b[1m1s\u001b[0m 2ms/step - accuracy: 0.9997 - loss: 0.0041 - val_accuracy: 0.9974 - val_loss: 0.0099\n",
      "Epoch 7/10\n",
      "\u001b[1m265/265\u001b[0m \u001b[32m━━━━━━━━━━━━━━━━━━━━\u001b[0m\u001b[37m\u001b[0m \u001b[1m1s\u001b[0m 2ms/step - accuracy: 0.9980 - loss: 0.0050 - val_accuracy: 1.0000 - val_loss: 0.0014\n",
      "Epoch 8/10\n",
      "\u001b[1m265/265\u001b[0m \u001b[32m━━━━━━━━━━━━━━━━━━━━\u001b[0m\u001b[37m\u001b[0m \u001b[1m1s\u001b[0m 2ms/step - accuracy: 1.0000 - loss: 0.0014 - val_accuracy: 1.0000 - val_loss: 0.0014\n",
      "Epoch 9/10\n",
      "\u001b[1m265/265\u001b[0m \u001b[32m━━━━━━━━━━━━━━━━━━━━\u001b[0m\u001b[37m\u001b[0m \u001b[1m1s\u001b[0m 2ms/step - accuracy: 1.0000 - loss: 0.0013 - val_accuracy: 1.0000 - val_loss: 8.9505e-04\n",
      "Epoch 10/10\n",
      "\u001b[1m265/265\u001b[0m \u001b[32m━━━━━━━━━━━━━━━━━━━━\u001b[0m\u001b[37m\u001b[0m \u001b[1m1s\u001b[0m 2ms/step - accuracy: 1.0000 - loss: 9.5279e-04 - val_accuracy: 1.0000 - val_loss: 9.0148e-04\n",
      "\u001b[1m166/166\u001b[0m \u001b[32m━━━━━━━━━━━━━━━━━━━━\u001b[0m\u001b[37m\u001b[0m \u001b[1m0s\u001b[0m 1ms/step - accuracy: 1.0000 - loss: 9.2853e-04\n",
      "Test Accuracy: 100.00%\n"
     ]
    },
    {
     "data": {
      "text/html": [
       "<pre style=\"white-space:pre;overflow-x:auto;line-height:normal;font-family:Menlo,'DejaVu Sans Mono',consolas,'Courier New',monospace\"><span style=\"font-weight: bold\">Model: \"sequential_3\"</span>\n",
       "</pre>\n"
      ],
      "text/plain": [
       "\u001b[1mModel: \"sequential_3\"\u001b[0m\n"
      ]
     },
     "metadata": {},
     "output_type": "display_data"
    },
    {
     "data": {
      "text/html": [
       "<pre style=\"white-space:pre;overflow-x:auto;line-height:normal;font-family:Menlo,'DejaVu Sans Mono',consolas,'Courier New',monospace\">┏━━━━━━━━━━━━━━━━━━━━━━━━━━━━━━━━━┳━━━━━━━━━━━━━━━━━━━━━━━━┳━━━━━━━━━━━━━━━┓\n",
       "┃<span style=\"font-weight: bold\"> Layer (type)                    </span>┃<span style=\"font-weight: bold\"> Output Shape           </span>┃<span style=\"font-weight: bold\">       Param # </span>┃\n",
       "┡━━━━━━━━━━━━━━━━━━━━━━━━━━━━━━━━━╇━━━━━━━━━━━━━━━━━━━━━━━━╇━━━━━━━━━━━━━━━┩\n",
       "│ dense_9 (<span style=\"color: #0087ff; text-decoration-color: #0087ff\">Dense</span>)                 │ (<span style=\"color: #00d7ff; text-decoration-color: #00d7ff\">None</span>, <span style=\"color: #00af00; text-decoration-color: #00af00\">64</span>)             │         <span style=\"color: #00af00; text-decoration-color: #00af00\">3,008</span> │\n",
       "├─────────────────────────────────┼────────────────────────┼───────────────┤\n",
       "│ dense_10 (<span style=\"color: #0087ff; text-decoration-color: #0087ff\">Dense</span>)                │ (<span style=\"color: #00d7ff; text-decoration-color: #00d7ff\">None</span>, <span style=\"color: #00af00; text-decoration-color: #00af00\">64</span>)             │         <span style=\"color: #00af00; text-decoration-color: #00af00\">4,160</span> │\n",
       "├─────────────────────────────────┼────────────────────────┼───────────────┤\n",
       "│ dense_11 (<span style=\"color: #0087ff; text-decoration-color: #0087ff\">Dense</span>)                │ (<span style=\"color: #00d7ff; text-decoration-color: #00d7ff\">None</span>, <span style=\"color: #00af00; text-decoration-color: #00af00\">1</span>)              │            <span style=\"color: #00af00; text-decoration-color: #00af00\">65</span> │\n",
       "└─────────────────────────────────┴────────────────────────┴───────────────┘\n",
       "</pre>\n"
      ],
      "text/plain": [
       "┏━━━━━━━━━━━━━━━━━━━━━━━━━━━━━━━━━┳━━━━━━━━━━━━━━━━━━━━━━━━┳━━━━━━━━━━━━━━━┓\n",
       "┃\u001b[1m \u001b[0m\u001b[1mLayer (type)                   \u001b[0m\u001b[1m \u001b[0m┃\u001b[1m \u001b[0m\u001b[1mOutput Shape          \u001b[0m\u001b[1m \u001b[0m┃\u001b[1m \u001b[0m\u001b[1m      Param #\u001b[0m\u001b[1m \u001b[0m┃\n",
       "┡━━━━━━━━━━━━━━━━━━━━━━━━━━━━━━━━━╇━━━━━━━━━━━━━━━━━━━━━━━━╇━━━━━━━━━━━━━━━┩\n",
       "│ dense_9 (\u001b[38;5;33mDense\u001b[0m)                 │ (\u001b[38;5;45mNone\u001b[0m, \u001b[38;5;34m64\u001b[0m)             │         \u001b[38;5;34m3,008\u001b[0m │\n",
       "├─────────────────────────────────┼────────────────────────┼───────────────┤\n",
       "│ dense_10 (\u001b[38;5;33mDense\u001b[0m)                │ (\u001b[38;5;45mNone\u001b[0m, \u001b[38;5;34m64\u001b[0m)             │         \u001b[38;5;34m4,160\u001b[0m │\n",
       "├─────────────────────────────────┼────────────────────────┼───────────────┤\n",
       "│ dense_11 (\u001b[38;5;33mDense\u001b[0m)                │ (\u001b[38;5;45mNone\u001b[0m, \u001b[38;5;34m1\u001b[0m)              │            \u001b[38;5;34m65\u001b[0m │\n",
       "└─────────────────────────────────┴────────────────────────┴───────────────┘\n"
      ]
     },
     "metadata": {},
     "output_type": "display_data"
    },
    {
     "data": {
      "text/html": [
       "<pre style=\"white-space:pre;overflow-x:auto;line-height:normal;font-family:Menlo,'DejaVu Sans Mono',consolas,'Courier New',monospace\"><span style=\"font-weight: bold\"> Total params: </span><span style=\"color: #00af00; text-decoration-color: #00af00\">21,701</span> (84.77 KB)\n",
       "</pre>\n"
      ],
      "text/plain": [
       "\u001b[1m Total params: \u001b[0m\u001b[38;5;34m21,701\u001b[0m (84.77 KB)\n"
      ]
     },
     "metadata": {},
     "output_type": "display_data"
    },
    {
     "data": {
      "text/html": [
       "<pre style=\"white-space:pre;overflow-x:auto;line-height:normal;font-family:Menlo,'DejaVu Sans Mono',consolas,'Courier New',monospace\"><span style=\"font-weight: bold\"> Trainable params: </span><span style=\"color: #00af00; text-decoration-color: #00af00\">7,233</span> (28.25 KB)\n",
       "</pre>\n"
      ],
      "text/plain": [
       "\u001b[1m Trainable params: \u001b[0m\u001b[38;5;34m7,233\u001b[0m (28.25 KB)\n"
      ]
     },
     "metadata": {},
     "output_type": "display_data"
    },
    {
     "data": {
      "text/html": [
       "<pre style=\"white-space:pre;overflow-x:auto;line-height:normal;font-family:Menlo,'DejaVu Sans Mono',consolas,'Courier New',monospace\"><span style=\"font-weight: bold\"> Non-trainable params: </span><span style=\"color: #00af00; text-decoration-color: #00af00\">0</span> (0.00 B)\n",
       "</pre>\n"
      ],
      "text/plain": [
       "\u001b[1m Non-trainable params: \u001b[0m\u001b[38;5;34m0\u001b[0m (0.00 B)\n"
      ]
     },
     "metadata": {},
     "output_type": "display_data"
    },
    {
     "data": {
      "text/html": [
       "<pre style=\"white-space:pre;overflow-x:auto;line-height:normal;font-family:Menlo,'DejaVu Sans Mono',consolas,'Courier New',monospace\"><span style=\"font-weight: bold\"> Optimizer params: </span><span style=\"color: #00af00; text-decoration-color: #00af00\">14,468</span> (56.52 KB)\n",
       "</pre>\n"
      ],
      "text/plain": [
       "\u001b[1m Optimizer params: \u001b[0m\u001b[38;5;34m14,468\u001b[0m (56.52 KB)\n"
      ]
     },
     "metadata": {},
     "output_type": "display_data"
    }
   ],
   "source": [
    "import pandas as pd\n",
    "from sklearn.model_selection import train_test_split\n",
    "from sklearn.preprocessing import LabelEncoder\n",
    "import tensorflow as tf\n",
    "from tensorflow.keras.models import Sequential\n",
    "from tensorflow.keras.layers import Dense\n",
    "from tensorflow.keras.optimizers import Adam\n",
    "\n",
    "# Step 1: Load and preprocess the data\n",
    "# Adjust the file path according to your environment\n",
    "data = pd.read_excel('nba_team_data.xlsx')\n",
    "\n",
    "# Dropping non-predictive columns\n",
    "predictive_columns = data.drop(columns=['index','index_opp', 'SEASON_YEAR','SEASON_YEAR_opp','TEAM_ID','TEAM_ID_opp', 'TEAM_ABBREVIATION',\n",
    "                                        'TEAM_ABBREVIATION_opp','TEAM_NAME','TEAM_NAME_opp', 'GAME_ID','GAME_ID_opp', 'GAME_DATE','GAME_DATE_opp',\n",
    "                                        'MATCHUP','MATCHUP_opp', 'WL', 'WL_opp'])\n",
    "\n",
    "# Encoding the Win/Loss column as 0s and 1s\n",
    "wl_encoder = LabelEncoder()\n",
    "target = wl_encoder.fit_transform(data['WL'])\n",
    "\n",
    "# Step 2: Splitting the dataset into training and testing sets\n",
    "X_train, X_test, y_train, y_test = train_test_split(predictive_columns, target, test_size=0.2, random_state=42)\n",
    "\n",
    "# Step 3: Building the neural network model\n",
    "model = Sequential([\n",
    "    Dense(64, activation='relu', input_shape=(X_train.shape[1],)),\n",
    "    Dense(64, activation='relu'),\n",
    "    Dense(1, activation='sigmoid')\n",
    "])\n",
    "\n",
    "# Step 4: Compiling the model\n",
    "model.compile(optimizer=Adam(learning_rate=0.001),\n",
    "              loss='binary_crossentropy',\n",
    "              metrics=['accuracy'])\n",
    "\n",
    "# Training the model\n",
    "history = model.fit(X_train, y_train, epochs=10, batch_size=64, validation_split=0.2, verbose=1)\n",
    "\n",
    "# Step 5: Evaluating the model\n",
    "test_loss, test_accuracy = model.evaluate(X_test, y_test, verbose=1)\n",
    "print(f\"Test Accuracy: {test_accuracy * 100:.2f}%\")\n",
    "\n",
    "# Model summary\n",
    "model.summary()"
   ]
  },
  {
   "cell_type": "code",
   "execution_count": 26,
   "id": "21e128e1-9361-45bc-9aa1-8d13e8967a37",
   "metadata": {},
   "outputs": [
    {
     "data": {
      "text/html": [
       "<div>\n",
       "<style scoped>\n",
       "    .dataframe tbody tr th:only-of-type {\n",
       "        vertical-align: middle;\n",
       "    }\n",
       "\n",
       "    .dataframe tbody tr th {\n",
       "        vertical-align: top;\n",
       "    }\n",
       "\n",
       "    .dataframe thead th {\n",
       "        text-align: right;\n",
       "    }\n",
       "</style>\n",
       "<table border=\"1\" class=\"dataframe\">\n",
       "  <thead>\n",
       "    <tr style=\"text-align: right;\">\n",
       "      <th></th>\n",
       "      <th>TEAM_NAME</th>\n",
       "      <th>SEASON_YEAR</th>\n",
       "      <th>GAME_DATE</th>\n",
       "      <th>PTS</th>\n",
       "      <th>PTS_opp</th>\n",
       "      <th>WL</th>\n",
       "      <th>PTS_rolling</th>\n",
       "      <th>PTS_opp_rolling</th>\n",
       "      <th>Win_Ratio_rolling</th>\n",
       "      <th>FGM_rolling</th>\n",
       "    </tr>\n",
       "  </thead>\n",
       "  <tbody>\n",
       "    <tr>\n",
       "      <th>15</th>\n",
       "      <td>Atlanta Hawks</td>\n",
       "      <td>2012-13</td>\n",
       "      <td>2012-12-07</td>\n",
       "      <td>104</td>\n",
       "      <td>95</td>\n",
       "      <td>W</td>\n",
       "      <td>97.000000</td>\n",
       "      <td>94.200000</td>\n",
       "      <td>0.666667</td>\n",
       "      <td>37.600000</td>\n",
       "    </tr>\n",
       "    <tr>\n",
       "      <th>16</th>\n",
       "      <td>Atlanta Hawks</td>\n",
       "      <td>2012-13</td>\n",
       "      <td>2012-12-08</td>\n",
       "      <td>93</td>\n",
       "      <td>83</td>\n",
       "      <td>W</td>\n",
       "      <td>97.133333</td>\n",
       "      <td>93.266667</td>\n",
       "      <td>0.733333</td>\n",
       "      <td>37.666667</td>\n",
       "    </tr>\n",
       "    <tr>\n",
       "      <th>17</th>\n",
       "      <td>Atlanta Hawks</td>\n",
       "      <td>2012-13</td>\n",
       "      <td>2012-12-10</td>\n",
       "      <td>92</td>\n",
       "      <td>101</td>\n",
       "      <td>L</td>\n",
       "      <td>96.400000</td>\n",
       "      <td>92.466667</td>\n",
       "      <td>0.733333</td>\n",
       "      <td>37.200000</td>\n",
       "    </tr>\n",
       "    <tr>\n",
       "      <th>18</th>\n",
       "      <td>Atlanta Hawks</td>\n",
       "      <td>2012-13</td>\n",
       "      <td>2012-12-12</td>\n",
       "      <td>86</td>\n",
       "      <td>80</td>\n",
       "      <td>W</td>\n",
       "      <td>96.600000</td>\n",
       "      <td>93.466667</td>\n",
       "      <td>0.666667</td>\n",
       "      <td>36.800000</td>\n",
       "    </tr>\n",
       "    <tr>\n",
       "      <th>19</th>\n",
       "      <td>Atlanta Hawks</td>\n",
       "      <td>2012-13</td>\n",
       "      <td>2012-12-13</td>\n",
       "      <td>113</td>\n",
       "      <td>90</td>\n",
       "      <td>W</td>\n",
       "      <td>96.400000</td>\n",
       "      <td>92.466667</td>\n",
       "      <td>0.733333</td>\n",
       "      <td>36.866667</td>\n",
       "    </tr>\n",
       "  </tbody>\n",
       "</table>\n",
       "</div>"
      ],
      "text/plain": [
       "        TEAM_NAME SEASON_YEAR  GAME_DATE  PTS  PTS_opp WL  PTS_rolling  \\\n",
       "15  Atlanta Hawks     2012-13 2012-12-07  104       95  W    97.000000   \n",
       "16  Atlanta Hawks     2012-13 2012-12-08   93       83  W    97.133333   \n",
       "17  Atlanta Hawks     2012-13 2012-12-10   92      101  L    96.400000   \n",
       "18  Atlanta Hawks     2012-13 2012-12-12   86       80  W    96.600000   \n",
       "19  Atlanta Hawks     2012-13 2012-12-13  113       90  W    96.400000   \n",
       "\n",
       "    PTS_opp_rolling  Win_Ratio_rolling  FGM_rolling  \n",
       "15        94.200000           0.666667    37.600000  \n",
       "16        93.266667           0.733333    37.666667  \n",
       "17        92.466667           0.733333    37.200000  \n",
       "18        93.466667           0.666667    36.800000  \n",
       "19        92.466667           0.733333    36.866667  "
      ]
     },
     "execution_count": 26,
     "metadata": {},
     "output_type": "execute_result"
    }
   ],
   "source": [
    "# Convert 'WL' to numeric (1 for 'W', 0 for 'L')\n",
    "data_sorted['WL_numeric'] = data_sorted['WL'].map({'W': 1, 'L': 0})\n",
    "\n",
    "# Ensure data_sorted has a reset index if it doesn't already have a simple integer index\n",
    "data_sorted.reset_index(drop=True, inplace=True)\n",
    "\n",
    "# Calculate rolling stats\n",
    "rolling_stats = data_sorted.groupby(['TEAM_NAME', 'SEASON_YEAR']).rolling(window=15, min_periods=15).agg({\n",
    "    'PTS': 'mean',  # Average points scored\n",
    "    'PTS_opp': 'mean',  # Average points allowed\n",
    "    'WL_numeric': 'mean',  # Mean of WL_numeric gives the win ratio\n",
    "    'FGM': 'mean'  # Average Field Goals Made\n",
    "}).shift(1)  # Shift to not include the current game\n",
    "\n",
    "# Reset the index of rolling_stats to turn the multi-index into columns,\n",
    "# this operation will make 'TEAM_NAME' and 'SEASON_YEAR' regular columns\n",
    "# and keep the rolling window index aligned with data_sorted's index\n",
    "rolling_stats.reset_index(inplace=True)\n",
    "\n",
    "# Rename the calculated columns in rolling_stats to avoid name overlap\n",
    "rolling_stats = rolling_stats.rename(columns={\n",
    "    'PTS': 'PTS_rolling',\n",
    "    'PTS_opp': 'PTS_opp_rolling',\n",
    "    'WL_numeric': 'Win_Ratio_rolling',\n",
    "    'FGM': 'FGM_rolling'\n",
    "})\n",
    "\n",
    "# Since we're joining based on the index and the 'TEAM_NAME' and 'SEASON_YEAR' columns,\n",
    "# ensure these columns exist in both DataFrames and are of compatible types\n",
    "# Now join rolling_stats back to data_sorted using the common keys and index\n",
    "data_with_rolling_stats = pd.merge(data_sorted, rolling_stats, left_on=['TEAM_NAME', 'SEASON_YEAR', data_sorted.index], right_on=['TEAM_NAME', 'SEASON_YEAR', 'level_2'], how='left')\n",
    "\n",
    "# Drop unnecessary columns resulting from the merge, if any\n",
    "data_with_rolling_stats.drop(columns=['level_2'], inplace=True)\n",
    "\n",
    "# Filter to rows where rolling stats are available (i.e., not NaN)\n",
    "evaluated_data = data_with_rolling_stats.dropna(subset=['PTS_rolling'])\n",
    "\n",
    "# Select columns to display, adjust as needed\n",
    "display_columns = ['TEAM_NAME', 'SEASON_YEAR', 'GAME_DATE', 'PTS', 'PTS_opp', 'WL', 'PTS_rolling', 'PTS_opp_rolling', 'Win_Ratio_rolling', 'FGM_rolling']\n",
    "evaluated_data[display_columns].head()\n"
   ]
  },
  {
   "cell_type": "code",
   "execution_count": 27,
   "id": "0bf7f856-1cac-40bf-a2ff-cad1a94c925b",
   "metadata": {},
   "outputs": [
    {
     "name": "stdout",
     "output_type": "stream",
     "text": [
      "Model Accuracy: 53.87%\n"
     ]
    }
   ],
   "source": [
    "from sklearn.model_selection import train_test_split\n",
    "from sklearn.preprocessing import LabelEncoder, StandardScaler\n",
    "from sklearn.ensemble import RandomForestClassifier\n",
    "from sklearn.metrics import accuracy_score\n",
    "\n",
    "# Assuming 'evaluated_data' is your DataFrame with rolling stats and 'WL' outcomes\n",
    "\n",
    "# Feature Selection: Selecting rolling stats as features\n",
    "features = ['PTS_rolling', 'PTS_opp_rolling', 'Win_Ratio_rolling']\n",
    "X = evaluated_data[features]\n",
    "\n",
    "# Target Preparation: Encoding the 'WL' column\n",
    "y = LabelEncoder().fit_transform(evaluated_data['WL'])\n",
    "\n",
    "# Data Splitting: Splitting the dataset into training and testing sets\n",
    "X_train, X_test, y_train, y_test = train_test_split(X, y, test_size=0.2, random_state=42)\n",
    "\n",
    "# Data Scaling: Optional but recommended for many models\n",
    "scaler = StandardScaler()\n",
    "X_train_scaled = scaler.fit_transform(X_train)\n",
    "X_test_scaled = scaler.transform(X_test)\n",
    "\n",
    "# Model Building: Using a Random Forest for classification\n",
    "model = RandomForestClassifier(n_estimators=100, random_state=42)\n",
    "\n",
    "# Training the model\n",
    "model.fit(X_train_scaled, y_train)\n",
    "\n",
    "# Making predictions\n",
    "predictions = model.predict(X_test_scaled)\n",
    "\n",
    "# Evaluating the model\n",
    "accuracy = accuracy_score(y_test, predictions)\n",
    "print(f\"Model Accuracy: {accuracy * 100:.2f}%\")\n"
   ]
  },
  {
   "cell_type": "code",
   "execution_count": null,
   "id": "a357c4b2-1dd0-4753-afde-a41b3440f87b",
   "metadata": {},
   "outputs": [],
   "source": []
  }
 ],
 "metadata": {
  "kernelspec": {
   "display_name": "Python 3 (ipykernel)",
   "language": "python",
   "name": "python3"
  },
  "language_info": {
   "codemirror_mode": {
    "name": "ipython",
    "version": 3
   },
   "file_extension": ".py",
   "mimetype": "text/x-python",
   "name": "python",
   "nbconvert_exporter": "python",
   "pygments_lexer": "ipython3",
   "version": "3.11.5"
  }
 },
 "nbformat": 4,
 "nbformat_minor": 5
}
